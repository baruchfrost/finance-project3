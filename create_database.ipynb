{
 "cells": [
  {
   "cell_type": "code",
   "execution_count": 48,
   "metadata": {},
   "outputs": [],
   "source": [
    "import sqlite3\n",
    "\n",
    "# Connect to the SQLite database\n",
    "conn = sqlite3.connect('data/db.sqlite')\n",
    "c = conn.cursor()\n",
    "\n",
    "# Create the sector_etfs table\n",
    "c.execute('''\n",
    "    CREATE TABLE sector_etfs (\n",
    "        id INTEGER PRIMARY KEY,\n",
    "        name TEXT NOT NULL,\n",
    "        date TEXT NOT NULL,\n",
    "        open REAL NOT NULL,\n",
    "        high REAL NOT NULL,\n",
    "        low REAL NOT NULL,\n",
    "        close REAL NOT NULL,\n",
    "        volume INTEGER NOT NULL\n",
    "    )\n",
    "''')\n",
    "\n",
    "# Create the fed_funds_rate table\n",
    "c.execute('''\n",
    "    CREATE TABLE fed_funds_rate (\n",
    "        id INTEGER PRIMARY KEY,\n",
    "        date TEXT NOT NULL,\n",
    "        rate REAL NOT NULL\n",
    "    )\n",
    "''')\n",
    "\n",
    "# Create the unemployment_rate table\n",
    "c.execute('''\n",
    "    CREATE TABLE unemployment_rate (\n",
    "        id INTEGER PRIMARY KEY,\n",
    "        date TEXT NOT NULL,\n",
    "        rate REAL NOT NULL\n",
    "    )\n",
    "''')\n",
    "\n",
    "# Create the yield_curve table\n",
    "c.execute('''\n",
    "    CREATE TABLE yield_curve (\n",
    "        id INTEGER PRIMARY KEY,\n",
    "        date TEXT NOT NULL,\n",
    "        rate REAL NOT NULL\n",
    "    )\n",
    "''')\n",
    "\n",
    "# Commit the changes and close the connection\n",
    "conn.commit()\n",
    "conn.close()\n"
   ]
  },
  {
   "cell_type": "code",
   "execution_count": 49,
   "metadata": {},
   "outputs": [],
   "source": [
    "import pandas as pd\n",
    "\n",
    "csv_file_path = 'data/FEDFUNDS.csv'\n",
    "\n",
    "fedfunds_data = pd.read_csv(csv_file_path)\n",
    "\n",
    "fedfunds_data = fedfunds_data.rename(columns={\"FEDFUNDS\": \"rate\", \"DATE\": \"date\"})"
   ]
  },
  {
   "cell_type": "code",
   "execution_count": 50,
   "metadata": {},
   "outputs": [
    {
     "data": {
      "text/plain": [
       "826"
      ]
     },
     "execution_count": 50,
     "metadata": {},
     "output_type": "execute_result"
    }
   ],
   "source": [
    "from sqlalchemy import create_engine\n",
    "\n",
    "# Create a connection to the SQLite database\n",
    "engine = create_engine('sqlite:///data/db.sqlite')\n",
    "\n",
    "# Save the fed_funds_rate DataFrame to the fed_funds_rate table in the SQLite database\n",
    "fedfunds_data.to_sql('fed_funds_rate', con=engine, if_exists='append', index=False)"
   ]
  },
  {
   "cell_type": "code",
   "execution_count": 51,
   "metadata": {},
   "outputs": [
    {
     "name": "stdout",
     "output_type": "stream",
     "text": [
      "   id        date  rate\n",
      "0   1  1954-07-01  0.80\n",
      "1   2  1954-08-01  1.22\n",
      "2   3  1954-09-01  1.07\n",
      "3   4  1954-10-01  0.85\n",
      "4   5  1954-11-01  0.83\n",
      "         date  rate\n",
      "0  1954-07-01  0.80\n",
      "1  1954-08-01  1.22\n",
      "2  1954-09-01  1.07\n",
      "3  1954-10-01  0.85\n",
      "4  1954-11-01  0.83\n"
     ]
    }
   ],
   "source": [
    "# Connect to the SQLite database\n",
    "conn = sqlite3.connect('data/db.sqlite')\n",
    "c = conn.cursor()\n",
    "\n",
    "# Query the fed_funds_rate table to retrieve all the data\n",
    "c.execute('SELECT * FROM fed_funds_rate')\n",
    "data = c.fetchall()\n",
    "\n",
    "# Convert the data into a DataFrame\n",
    "fed_funds_db = pd.DataFrame(data, columns=['id', 'date', 'rate'])\n",
    "\n",
    "# Compare the fed_funds_rate_df DataFrame to your original data\n",
    "print(fed_funds_db.head())\n",
    "print(fedfunds_data.head())\n",
    "\n",
    "\n",
    "# Close the connection\n",
    "conn.close()"
   ]
  },
  {
   "cell_type": "code",
   "execution_count": 52,
   "metadata": {},
   "outputs": [
    {
     "name": "stdout",
     "output_type": "stream",
     "text": [
      "   id        date  rate\n",
      "0   1  1948-01-01   3.4\n",
      "1   2  1948-02-01   3.8\n",
      "2   3  1948-03-01   4.0\n",
      "3   4  1948-04-01   3.9\n",
      "4   5  1948-05-01   3.5\n",
      "         date  rate\n",
      "0  1948-01-01   3.4\n",
      "1  1948-02-01   3.8\n",
      "2  1948-03-01   4.0\n",
      "3  1948-04-01   3.9\n",
      "4  1948-05-01   3.5\n"
     ]
    }
   ],
   "source": [
    "import pandas as pd\n",
    "from sqlalchemy import create_engine\n",
    "\n",
    "csv_file_path = 'data/UNRATE.csv'\n",
    "\n",
    "unrate_data = pd.read_csv(csv_file_path)\n",
    "\n",
    "unrate_data = unrate_data.rename(columns={\"UNRATE\": \"rate\", \"DATE\": \"date\"})\n",
    "\n",
    "# Create a connection to the SQLite database\n",
    "engine = create_engine('sqlite:///data/db.sqlite')\n",
    "\n",
    "# Save the fed_funds_rate DataFrame to the fed_funds_rate table in the SQLite database\n",
    "unrate_data.to_sql('unemployment_rate', con=engine, if_exists='append', index=False)\n",
    "\n",
    "# Connect to the SQLite database\n",
    "conn = sqlite3.connect('data/db.sqlite')\n",
    "c = conn.cursor()\n",
    "\n",
    "# Query the fed_funds_rate table to retrieve all the data\n",
    "c.execute('SELECT * FROM unemployment_rate')\n",
    "data = c.fetchall()\n",
    "\n",
    "# Convert the data into a DataFrame\n",
    "unrate_db = pd.DataFrame(data, columns=['id', 'date', 'rate'])\n",
    "\n",
    "# Compare the fed_funds_rate_df DataFrame to your original data\n",
    "print(unrate_db.head())\n",
    "print(unrate_data.head())\n",
    "\n",
    "\n",
    "# Close the connection\n",
    "conn.close()"
   ]
  },
  {
   "cell_type": "code",
   "execution_count": 53,
   "metadata": {},
   "outputs": [],
   "source": [
    "import sqlite3\n",
    "\n",
    "# Connect to the SQLite database\n",
    "conn = sqlite3.connect('data/db.sqlite')\n",
    "c = conn.cursor()\n",
    "\n",
    "# Create the nrou table\n",
    "c.execute('''\n",
    "    CREATE TABLE nrou (\n",
    "        id INTEGER PRIMARY KEY,\n",
    "        date TEXT NOT NULL,\n",
    "        value REAL NOT NULL\n",
    "    )\n",
    "''')\n",
    "\n",
    "# Commit the changes and close the connection\n",
    "conn.commit()\n",
    "conn.close()\n"
   ]
  },
  {
   "cell_type": "code",
   "execution_count": 54,
   "metadata": {},
   "outputs": [],
   "source": [
    "csv_file_path = 'data/NROU.csv'\n",
    "\n",
    "nrou_data = pd.read_csv(csv_file_path)\n",
    "\n",
    "nrou_data = nrou_data.rename(columns={\"NROU\": \"value\", \"DATE\": \"date\"})"
   ]
  },
  {
   "cell_type": "code",
   "execution_count": 55,
   "metadata": {},
   "outputs": [
    {
     "data": {
      "text/plain": [
       "340"
      ]
     },
     "execution_count": 55,
     "metadata": {},
     "output_type": "execute_result"
    }
   ],
   "source": [
    "# Save the NROU DataFrame to the NROU table in the SQLite database\n",
    "nrou_data.to_sql('nrou', con=engine, if_exists='append', index=False)"
   ]
  },
  {
   "cell_type": "code",
   "execution_count": 56,
   "metadata": {},
   "outputs": [
    {
     "name": "stdout",
     "output_type": "stream",
     "text": [
      "   id        date      rate\n",
      "0   1  1949-01-01  5.255053\n",
      "1   2  1949-04-01  5.261516\n",
      "2   3  1949-07-01  5.268013\n",
      "3   4  1949-10-01  5.274564\n",
      "4   5  1950-01-01  5.281182\n",
      "         date     value\n",
      "0  1949-01-01  5.255053\n",
      "1  1949-04-01  5.261516\n",
      "2  1949-07-01  5.268013\n",
      "3  1949-10-01  5.274564\n",
      "4  1950-01-01  5.281182\n"
     ]
    }
   ],
   "source": [
    "# Connect to the SQLite database\n",
    "conn = sqlite3.connect('data/db.sqlite')\n",
    "c = conn.cursor()\n",
    "\n",
    "# Query the nrou table to retrieve all the data\n",
    "c.execute('SELECT * FROM nrou')\n",
    "data = c.fetchall()\n",
    "\n",
    "# Convert the data into a DataFrame\n",
    "nrou_db = pd.DataFrame(data, columns=['id', 'date', 'rate'])\n",
    "\n",
    "# Compare the nrou DataFrame to your original data\n",
    "print(nrou_db.head())\n",
    "print(nrou_data.head())\n",
    "\n",
    "\n",
    "# Close the connection\n",
    "conn.close()"
   ]
  },
  {
   "cell_type": "code",
   "execution_count": 57,
   "metadata": {},
   "outputs": [],
   "source": [
    "csv_file_path = 'data/T10Y3M.csv'\n",
    "\n",
    "T10Y3M_data = pd.read_csv(csv_file_path)\n",
    "\n",
    "T10Y3M_data = T10Y3M_data.rename(columns={\"T10Y3M\": \"rate\", \"DATE\": \"date\"})"
   ]
  },
  {
   "cell_type": "code",
   "execution_count": 58,
   "metadata": {},
   "outputs": [
    {
     "data": {
      "text/plain": [
       "10796"
      ]
     },
     "execution_count": 58,
     "metadata": {},
     "output_type": "execute_result"
    }
   ],
   "source": [
    "T10Y3M_data.to_sql('yield_curve', con=engine, if_exists='append', index=False)"
   ]
  },
  {
   "cell_type": "code",
   "execution_count": 59,
   "metadata": {},
   "outputs": [
    {
     "name": "stdout",
     "output_type": "stream",
     "text": [
      "   id        date  rate\n",
      "0   1  1982-01-04  2.32\n",
      "1   2  1982-01-05  2.24\n",
      "2   3  1982-01-06  2.43\n",
      "3   4  1982-01-07  2.46\n",
      "4   5  1982-01-08   2.5\n",
      "         date  rate\n",
      "0  1982-01-04  2.32\n",
      "1  1982-01-05  2.24\n",
      "2  1982-01-06  2.43\n",
      "3  1982-01-07  2.46\n",
      "4  1982-01-08  2.50\n"
     ]
    }
   ],
   "source": [
    "# Connect to the SQLite database\n",
    "conn = sqlite3.connect('data/db.sqlite')\n",
    "c = conn.cursor()\n",
    "\n",
    "# Query the yield_curve table to retrieve all the data\n",
    "c.execute('SELECT * FROM yield_curve')\n",
    "data = c.fetchall()\n",
    "\n",
    "# Convert the data into a DataFrame\n",
    "T10Y3M_db = pd.DataFrame(data, columns=['id', 'date', 'rate'])\n",
    "\n",
    "# Compare the T10Y3M DataFrame to your original data\n",
    "print(T10Y3M_db.head())\n",
    "print(T10Y3M_data.head())\n",
    "\n",
    "\n",
    "# Close the connection\n",
    "conn.close()"
   ]
  },
  {
   "cell_type": "code",
   "execution_count": 60,
   "metadata": {},
   "outputs": [
    {
     "name": "stdout",
     "output_type": "stream",
     "text": [
      "added file Consumer Discretionary Select Sector SPDR® Fund_05_24_23-08_16_02.csv to the database\n",
      "added file Consumer Staples Select Sector SPDR® Fund_05_24_23-08_21_02.csv to the database\n",
      "added file Energy Select Sector SPDR® Fund_05_23_23-08_19_02.csv to the database\n",
      "added file Financial Select Sector SPDR® Fund_05_23_23-08_19_02.csv to the database\n",
      "added file Health Care Select Sector SPDR® Fund_05_24_23-08_30_02.csv to the database\n",
      "added file Industrial Select Sector SPDR® Fund_05_24_23-08_19_02.csv to the database\n",
      "added file iShares Biotechnology ETF_05_23_23-02_09_01.csv to the database\n",
      "added file iShares U.S. Energy ETF_05_24_23-08_21_02.csv to the database\n",
      "added file iShares U.S. Home Construction ETF_05_24_23-05_09_06.csv to the database\n",
      "added file iShares U.S. Real Estate ETF_05_24_23-08_16_02.csv to the database\n",
      "added file Materials Select Sector SPDR® Fund_05_24_23-08_22_02.csv to the database\n",
      "added file SPDR® S&P Bank ETF_05_24_23-08_01_07.csv to the database\n",
      "added file SPDR® S&P Homebuilders ETF_01_02_08-12_31_21.csv to the database\n",
      "added file SPDR® S&P Metals and Mining ETF_05_24_23-08_01_07.csv to the database\n",
      "added file SPDR® S&P Oil & Gas Exploration & Production ETF_05_24_23-08_01_07.csv to the database\n",
      "added file SPDR® S&P Regional Banking ETF_05_24_23-08_01_07.csv to the database\n",
      "added file SPDR® S&P Telecom ETF_06_25_21-12_31_13.csv to the database\n",
      "added file Technology Select Sector SPDR® Fund_05_24_23-08_19_02.csv to the database\n",
      "added file Utilities Select Sector SPDR® Fund_05_23_23-08_16_02.csv to the database\n",
      "added file VanEck Junior Gold Miners ETF_05_24_23-11_11_09.csv to the database\n",
      "added file VanEck Oil Services ETF_05_24_23-12_21_11.csv to the database\n",
      "added file VanEck Semiconductor ETF_05_24_23-12_21_11.csv to the database\n",
      "added file Vanguard Real Estate Index Fund ETF Shares_05_24_23-09_29_04.csv to the database\n"
     ]
    }
   ],
   "source": [
    "import os\n",
    "\n",
    "symbols_for_names = {\n",
    "    'Consumer Discretionary Select Sector SPDR® Fund': 'XLY',\n",
    "    'Consumer Staples Select Sector SPDR® Fund': 'XLP',\n",
    "    'Energy Select Sector SPDR® Fund': 'XLE',\n",
    "    'Financial Select Sector SPDR® Fund': 'XLF',\n",
    "    'Health Care Select Sector SPDR® Fund': 'XLV',\n",
    "    'Industrial Select Sector SPDR® Fund': 'XLI',\n",
    "    'iShares Biotechnology ETF': 'IBB',\n",
    "    'iShares U.S. Energy ETF': 'IYE',\n",
    "    'iShares U.S. Home Construction ETF': 'ITB',\n",
    "    'iShares U.S. Real Estate ETF': 'IYR',\n",
    "    'Materials Select Sector SPDR® Fund': 'XLB',\n",
    "    'SPDR® S&P Bank ETF': 'KBE',\n",
    "    'SPDR® S&P Homebuilders ETF': 'XHB',\n",
    "    'SPDR® S&P Metals and Mining ETF': 'XME',\n",
    "    'SPDR® S&P Oil & Gas Exploration & Production ETF': 'XOP',\n",
    "    'SPDR® S&P Regional Banking ETF': 'KRE',\n",
    "    'SPDR® S&P Telecom ETF': 'XTL',\n",
    "    'Technology Select Sector SPDR® Fund': 'XLK',\n",
    "    'Utilities Select Sector SPDR® Fund': 'XLU',\n",
    "    'VanEck Junior Gold Miners ETF': 'GDXJ',\n",
    "    'VanEck Oil Services ETF': 'OIH',\n",
    "    'VanEck Semiconductor ETF': 'SMH',\n",
    "    'Vanguard Real Estate Index Fund ETF Shares': 'VNQ'\n",
    "}\n",
    "\n",
    "sector_etfs = \"./data/sector_etfs/\"\n",
    "\n",
    "for filename in os.listdir(sector_etfs):\n",
    "    if filename.endswith('.csv'):\n",
    "        print(f\"added file {filename} to the database\")\n",
    "        df = pd.read_csv(os.path.join(sector_etfs, filename))\n",
    "        df.dropna()\n",
    "\n",
    "        df.rename(columns={\"Open\": \"open\", \"Close\": \"close\", \"High\": \"high\", \"Low\": \"low\", \"Volume\": \"volume\", \"Date\": \"date\"})\n",
    "        df[\"name\"] = symbols_for_names[filename[:-22]]\n",
    "\n",
    "        df.to_sql('sector_etfs', con=engine, if_exists='append', index=False)"
   ]
  }
 ],
 "metadata": {
  "kernelspec": {
   "display_name": "dev",
   "language": "python",
   "name": "python3"
  },
  "language_info": {
   "codemirror_mode": {
    "name": "ipython",
    "version": 3
   },
   "file_extension": ".py",
   "mimetype": "text/x-python",
   "name": "python",
   "nbconvert_exporter": "python",
   "pygments_lexer": "ipython3",
   "version": "3.10.10"
  },
  "orig_nbformat": 4
 },
 "nbformat": 4,
 "nbformat_minor": 2
}
