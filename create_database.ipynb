{
 "cells": [
  {
   "cell_type": "code",
   "execution_count": 1,
   "metadata": {},
   "outputs": [],
   "source": [
    "import sqlite3\n",
    "\n",
    "# Connect to the SQLite database\n",
    "conn = sqlite3.connect('data/db.sqlite')\n",
    "c = conn.cursor()\n",
    "\n",
    "# Create the sector_etfs table\n",
    "c.execute('''\n",
    "    CREATE TABLE sector_etfs (\n",
    "        id INTEGER PRIMARY KEY,\n",
    "        name TEXT NOT NULL,\n",
    "        date TEXT NOT NULL,\n",
    "        open REAL NOT NULL,\n",
    "        high REAL NOT NULL,\n",
    "        low REAL NOT NULL,\n",
    "        close REAL NOT NULL,\n",
    "        volume INTEGER NOT NULL\n",
    "    )\n",
    "''')\n",
    "\n",
    "# Create the fed_funds_rate table\n",
    "c.execute('''\n",
    "    CREATE TABLE fed_funds_rate (\n",
    "        id INTEGER PRIMARY KEY,\n",
    "        date TEXT NOT NULL,\n",
    "        rate REAL NOT NULL\n",
    "    )\n",
    "''')\n",
    "\n",
    "# Create the unemployment_rate table\n",
    "c.execute('''\n",
    "    CREATE TABLE unemployment_rate (\n",
    "        id INTEGER PRIMARY KEY,\n",
    "        date TEXT NOT NULL,\n",
    "        rate REAL NOT NULL\n",
    "    )\n",
    "''')\n",
    "\n",
    "# Create the yield_curve table\n",
    "c.execute('''\n",
    "    CREATE TABLE yield_curve (\n",
    "        id INTEGER PRIMARY KEY,\n",
    "        date TEXT NOT NULL,\n",
    "        rate REAL NOT NULL\n",
    "    )\n",
    "''')\n",
    "\n",
    "# Commit the changes and close the connection\n",
    "conn.commit()\n",
    "conn.close()\n"
   ]
  },
  {
   "cell_type": "code",
   "execution_count": 2,
   "metadata": {},
   "outputs": [],
   "source": [
    "import pandas as pd\n",
    "\n",
    "csv_file_path = 'data/FEDFUNDS.csv'\n",
    "\n",
    "fedfunds_data = pd.read_csv(csv_file_path)\n",
    "\n",
    "fedfunds_data = fedfunds_data.rename(columns={\"FEDFUNDS\": \"rate\", \"DATE\": \"date\"})"
   ]
  },
  {
   "cell_type": "code",
   "execution_count": 3,
   "metadata": {},
   "outputs": [
    {
     "data": {
      "text/plain": [
       "826"
      ]
     },
     "execution_count": 3,
     "metadata": {},
     "output_type": "execute_result"
    }
   ],
   "source": [
    "from sqlalchemy import create_engine\n",
    "\n",
    "# Create a connection to the SQLite database\n",
    "engine = create_engine('sqlite:///data/db.sqlite')\n",
    "\n",
    "# Save the fed_funds_rate DataFrame to the fed_funds_rate table in the SQLite database\n",
    "fedfunds_data.to_sql('fed_funds_rate', con=engine, if_exists='append', index=False)"
   ]
  },
  {
   "cell_type": "code",
   "execution_count": 4,
   "metadata": {},
   "outputs": [
    {
     "name": "stdout",
     "output_type": "stream",
     "text": [
      "   id        date  rate\n",
      "0   1  1954-07-01  0.80\n",
      "1   2  1954-08-01  1.22\n",
      "2   3  1954-09-01  1.07\n",
      "3   4  1954-10-01  0.85\n",
      "4   5  1954-11-01  0.83\n",
      "         date  rate\n",
      "0  1954-07-01  0.80\n",
      "1  1954-08-01  1.22\n",
      "2  1954-09-01  1.07\n",
      "3  1954-10-01  0.85\n",
      "4  1954-11-01  0.83\n"
     ]
    }
   ],
   "source": [
    "# Connect to the SQLite database\n",
    "conn = sqlite3.connect('data/db.sqlite')\n",
    "c = conn.cursor()\n",
    "\n",
    "# Query the fed_funds_rate table to retrieve all the data\n",
    "c.execute('SELECT * FROM fed_funds_rate')\n",
    "data = c.fetchall()\n",
    "\n",
    "# Convert the data into a DataFrame\n",
    "fed_funds_db = pd.DataFrame(data, columns=['id', 'date', 'rate'])\n",
    "\n",
    "# Compare the fed_funds_rate_df DataFrame to your original data\n",
    "print(fed_funds_db.head())\n",
    "print(fedfunds_data.head())\n",
    "\n",
    "\n",
    "# Close the connection\n",
    "conn.close()"
   ]
  },
  {
   "cell_type": "code",
   "execution_count": 5,
   "metadata": {},
   "outputs": [
    {
     "name": "stdout",
     "output_type": "stream",
     "text": [
      "   id        date  rate\n",
      "0   1  1948-01-01   3.4\n",
      "1   2  1948-02-01   3.8\n",
      "2   3  1948-03-01   4.0\n",
      "3   4  1948-04-01   3.9\n",
      "4   5  1948-05-01   3.5\n",
      "         date  rate\n",
      "0  1948-01-01   3.4\n",
      "1  1948-02-01   3.8\n",
      "2  1948-03-01   4.0\n",
      "3  1948-04-01   3.9\n",
      "4  1948-05-01   3.5\n"
     ]
    }
   ],
   "source": [
    "import pandas as pd\n",
    "from sqlalchemy import create_engine\n",
    "\n",
    "csv_file_path = 'data/UNRATE.csv'\n",
    "\n",
    "unrate_data = pd.read_csv(csv_file_path)\n",
    "\n",
    "unrate_data = unrate_data.rename(columns={\"UNRATE\": \"rate\", \"DATE\": \"date\"})\n",
    "\n",
    "# Create a connection to the SQLite database\n",
    "engine = create_engine('sqlite:///data/db.sqlite')\n",
    "\n",
    "# Save the fed_funds_rate DataFrame to the fed_funds_rate table in the SQLite database\n",
    "unrate_data.to_sql('unemployment_rate', con=engine, if_exists='append', index=False)\n",
    "\n",
    "# Connect to the SQLite database\n",
    "conn = sqlite3.connect('data/db.sqlite')\n",
    "c = conn.cursor()\n",
    "\n",
    "# Query the fed_funds_rate table to retrieve all the data\n",
    "c.execute('SELECT * FROM unemployment_rate')\n",
    "data = c.fetchall()\n",
    "\n",
    "# Convert the data into a DataFrame\n",
    "unrate_db = pd.DataFrame(data, columns=['id', 'date', 'rate'])\n",
    "\n",
    "# Compare the fed_funds_rate_df DataFrame to your original data\n",
    "print(unrate_db.head())\n",
    "print(unrate_data.head())\n",
    "\n",
    "\n",
    "# Close the connection\n",
    "conn.close()"
   ]
  },
  {
   "cell_type": "code",
   "execution_count": 6,
   "metadata": {},
   "outputs": [],
   "source": [
    "import sqlite3\n",
    "\n",
    "# Connect to the SQLite database\n",
    "conn = sqlite3.connect('data/db.sqlite')\n",
    "c = conn.cursor()\n",
    "\n",
    "# Create the nrou table\n",
    "c.execute('''\n",
    "    CREATE TABLE nrou (\n",
    "        id INTEGER PRIMARY KEY,\n",
    "        date TEXT NOT NULL,\n",
    "        value REAL NOT NULL\n",
    "    )\n",
    "''')\n",
    "\n",
    "# Commit the changes and close the connection\n",
    "conn.commit()\n",
    "conn.close()\n"
   ]
  },
  {
   "cell_type": "code",
   "execution_count": 7,
   "metadata": {},
   "outputs": [],
   "source": [
    "csv_file_path = 'data/NROU.csv'\n",
    "\n",
    "nrou_data = pd.read_csv(csv_file_path)\n",
    "\n",
    "nrou_data = nrou_data.rename(columns={\"NROU\": \"value\", \"DATE\": \"date\"})"
   ]
  },
  {
   "cell_type": "code",
   "execution_count": 8,
   "metadata": {},
   "outputs": [
    {
     "data": {
      "text/plain": [
       "340"
      ]
     },
     "execution_count": 8,
     "metadata": {},
     "output_type": "execute_result"
    }
   ],
   "source": [
    "# Save the NROU DataFrame to the NROU table in the SQLite database\n",
    "nrou_data.to_sql('nrou', con=engine, if_exists='append', index=False)"
   ]
  },
  {
   "cell_type": "code",
   "execution_count": 9,
   "metadata": {},
   "outputs": [
    {
     "name": "stdout",
     "output_type": "stream",
     "text": [
      "   id        date      rate\n",
      "0   1  1949-01-01  5.255053\n",
      "1   2  1949-04-01  5.261516\n",
      "2   3  1949-07-01  5.268013\n",
      "3   4  1949-10-01  5.274564\n",
      "4   5  1950-01-01  5.281182\n",
      "         date     value\n",
      "0  1949-01-01  5.255053\n",
      "1  1949-04-01  5.261516\n",
      "2  1949-07-01  5.268013\n",
      "3  1949-10-01  5.274564\n",
      "4  1950-01-01  5.281182\n"
     ]
    }
   ],
   "source": [
    "# Connect to the SQLite database\n",
    "conn = sqlite3.connect('data/db.sqlite')\n",
    "c = conn.cursor()\n",
    "\n",
    "# Query the nrou table to retrieve all the data\n",
    "c.execute('SELECT * FROM nrou')\n",
    "data = c.fetchall()\n",
    "\n",
    "# Convert the data into a DataFrame\n",
    "nrou_db = pd.DataFrame(data, columns=['id', 'date', 'rate'])\n",
    "\n",
    "# Compare the nrou DataFrame to your original data\n",
    "print(nrou_db.head())\n",
    "print(nrou_data.head())\n",
    "\n",
    "\n",
    "# Close the connection\n",
    "conn.close()"
   ]
  },
  {
   "cell_type": "code",
   "execution_count": 10,
   "metadata": {},
   "outputs": [],
   "source": [
    "csv_file_path = 'data/T10Y3M.csv'\n",
    "\n",
    "T10Y3M_data = pd.read_csv(csv_file_path)\n",
    "\n",
    "T10Y3M_data = T10Y3M_data.rename(columns={\"T10Y3M\": \"rate\", \"DATE\": \"date\"})"
   ]
  },
  {
   "cell_type": "code",
   "execution_count": 11,
   "metadata": {},
   "outputs": [
    {
     "data": {
      "text/plain": [
       "10796"
      ]
     },
     "execution_count": 11,
     "metadata": {},
     "output_type": "execute_result"
    }
   ],
   "source": [
    "T10Y3M_data.to_sql('yield_curve', con=engine, if_exists='append', index=False)"
   ]
  },
  {
   "cell_type": "code",
   "execution_count": 12,
   "metadata": {},
   "outputs": [
    {
     "name": "stdout",
     "output_type": "stream",
     "text": [
      "   id        date  rate\n",
      "0   1  1982-01-04  2.32\n",
      "1   2  1982-01-05  2.24\n",
      "2   3  1982-01-06  2.43\n",
      "3   4  1982-01-07  2.46\n",
      "4   5  1982-01-08   2.5\n",
      "         date  rate\n",
      "0  1982-01-04  2.32\n",
      "1  1982-01-05  2.24\n",
      "2  1982-01-06  2.43\n",
      "3  1982-01-07  2.46\n",
      "4  1982-01-08  2.50\n"
     ]
    }
   ],
   "source": [
    "# Connect to the SQLite database\n",
    "conn = sqlite3.connect('data/db.sqlite')\n",
    "c = conn.cursor()\n",
    "\n",
    "# Query the yield_curve table to retrieve all the data\n",
    "c.execute('SELECT * FROM yield_curve')\n",
    "data = c.fetchall()\n",
    "\n",
    "# Convert the data into a DataFrame\n",
    "T10Y3M_db = pd.DataFrame(data, columns=['id', 'date', 'rate'])\n",
    "\n",
    "# Compare the T10Y3M DataFrame to your original data\n",
    "print(T10Y3M_db.head())\n",
    "print(T10Y3M_data.head())\n",
    "\n",
    "\n",
    "# Close the connection\n",
    "conn.close()"
   ]
  },
  {
   "cell_type": "code",
   "execution_count": 16,
   "metadata": {},
   "outputs": [
    {
     "name": "stdout",
     "output_type": "stream",
     "text": [
      "added file GDXJ.csv to the database\n",
      "added file IBB.csv to the database\n",
      "added file ITB.csv to the database\n",
      "added file IYE.csv to the database\n",
      "added file IYR.csv to the database\n",
      "added file KBE.csv to the database\n",
      "added file KRE.csv to the database\n",
      "added file OIH.csv to the database\n",
      "added file SMH.csv to the database\n",
      "added file VNQ.csv to the database\n",
      "added file XHB.csv to the database\n",
      "added file XLB.csv to the database\n",
      "added file XLE.csv to the database\n",
      "added file XLF.csv to the database\n",
      "added file XLI.csv to the database\n",
      "added file XLK.csv to the database\n",
      "added file XLP.csv to the database\n",
      "added file XLU.csv to the database\n",
      "added file XLV.csv to the database\n",
      "added file XLY.csv to the database\n",
      "added file XME.csv to the database\n",
      "added file XOP.csv to the database\n"
     ]
    }
   ],
   "source": [
    "import os\n",
    "\n",
    "sector_etfs = \"./data/sector_etfs/\"\n",
    "\n",
    "for filename in os.listdir(sector_etfs):\n",
    "    if filename.endswith('.csv'):\n",
    "        df = pd.read_csv(os.path.join(sector_etfs, filename))\n",
    "        df.dropna()\n",
    "\n",
    "        df.rename(columns={\"Open\": \"open\", \"Close\": \"close\", \"High\": \"high\", \"Low\": \"low\", \"Volume\": \"volume\", \"Date\": \"date\"})\n",
    "        df.drop(columns=[\"Adj Close\"], inplace=True)\n",
    "        df[\"name\"] = filename[:-4]\n",
    "        \n",
    "        df.to_sql('sector_etfs', con=engine, if_exists='append', index=False)\n",
    "        \n",
    "        print(f\"added file {filename} to the database\")"
   ]
  }
 ],
 "metadata": {
  "kernelspec": {
   "display_name": "dev",
   "language": "python",
   "name": "python3"
  },
  "language_info": {
   "codemirror_mode": {
    "name": "ipython",
    "version": 3
   },
   "file_extension": ".py",
   "mimetype": "text/x-python",
   "name": "python",
   "nbconvert_exporter": "python",
   "pygments_lexer": "ipython3",
   "version": "3.10.10"
  },
  "orig_nbformat": 4
 },
 "nbformat": 4,
 "nbformat_minor": 2
}
